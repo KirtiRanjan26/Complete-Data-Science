{
  "cells": [
    {
      "cell_type": "markdown",
      "metadata": {
        "id": "view-in-github",
        "colab_type": "text"
      },
      "source": [
        "<a href=\"https://colab.research.google.com/github/KirtiRanjan26/Complete-Data-Science/blob/main/python_concept_2.ipynb\" target=\"_parent\"><img src=\"https://colab.research.google.com/assets/colab-badge.svg\" alt=\"Open In Colab\"/></a>"
      ]
    },
    {
      "cell_type": "markdown",
      "metadata": {
        "id": "Lwm6IzwamDIQ"
      },
      "source": [
        "#Inbuilt data structure in python"
      ]
    },
    {
      "cell_type": "markdown",
      "metadata": {
        "id": "UZlzQTvemWhr"
      },
      "source": [
        "##list and list comprehension\n",
        "\n",
        "What is list?\n",
        "\n",
        "List is one of the built-in data types in Python. A Python list is a sequence of comma separated items, enclosed in square brackets [ ]. The items in a Python list need not be of the same data type.\n",
        "\n",
        "List is an ordered collection of items. Each item in a list has a unique position index, starting from 0.\n",
        "\n",
        "A list in Python is similar to an array in C, C++ or Java. However, the major difference is that in C/C++/Java, the array elements must be of same type\n",
        "\n",
        "A Python list is mutable. Any item from the list can be accessed using its index, and can be modified."
      ]
    },
    {
      "cell_type": "code",
      "execution_count": null,
      "metadata": {
        "colab": {
          "base_uri": "https://localhost:8080/"
        },
        "id": "I-EG5Zaml7MF",
        "outputId": "58fc87b2-86c9-4d10-b69d-43c090ea0742"
      },
      "outputs": [
        {
          "name": "stdout",
          "output_type": "stream",
          "text": [
            "list1[0]:  physics\n",
            "list2[1:5]:  [2, 3, 4, 5]\n"
          ]
        }
      ],
      "source": [
        "list1 = ['physics', 'chemistry', 1997, 2000]\n",
        "list2 = [1, 2, 3, 4, 5, 6, 7 ]\n",
        "print (\"list1[0]: \", list1[0]) #acessing python\n",
        "print (\"list2[1:5]: \", list2[1:5])"
      ]
    },
    {
      "cell_type": "code",
      "execution_count": null,
      "metadata": {
        "colab": {
          "base_uri": "https://localhost:8080/"
        },
        "id": "_9t_2rV3nz1I",
        "outputId": "848da7b2-0dd6-4421-f171-451a5fdde1ec"
      },
      "outputs": [
        {
          "name": "stdout",
          "output_type": "stream",
          "text": [
            "Value available at index 2 : \n",
            "1997\n",
            "New value available at index 2 : \n",
            "2001\n"
          ]
        }
      ],
      "source": [
        "list = ['physics', 'chemistry', 1997, 2000];\n",
        "print (\"Value available at index 2 : \")\n",
        "print (list[2])\n",
        "list[2] = 2001; #update value\n",
        "print (\"New value available at index 2 : \")\n",
        "print (list[2])"
      ]
    },
    {
      "cell_type": "code",
      "execution_count": null,
      "metadata": {
        "colab": {
          "base_uri": "https://localhost:8080/"
        },
        "id": "V6R8nw9doAWL",
        "outputId": "ba7dc336-72f8-46a2-aac6-3708828d6af1"
      },
      "outputs": [
        {
          "name": "stdout",
          "output_type": "stream",
          "text": [
            "After deleting value at index 2 : \n",
            "['physics', 'chemistry', 2000]\n",
            "2000\n",
            "['physics']\n"
          ]
        }
      ],
      "source": [
        "del list1[2] #delete element in list\n",
        "print (\"After deleting value at index 2 : \")\n",
        "print (list1)\n",
        "popped_list1=list1.pop() #remove and return last  elements.\n",
        "print(popped_list1)\n",
        "list1.remove('chemistry') #remove element\n",
        "print(list1)"
      ]
    },
    {
      "cell_type": "code",
      "execution_count": null,
      "metadata": {
        "colab": {
          "base_uri": "https://localhost:8080/"
        },
        "id": "_gneFsFmoj26",
        "outputId": "d99d2478-4461-4b47-809f-43324bfffdfc"
      },
      "outputs": [
        {
          "name": "stdout",
          "output_type": "stream",
          "text": [
            "[1, 2, 3, 4, 5, 6]\n"
          ]
        }
      ],
      "source": [
        "print([1, 2, 3] + [4, 5, 6]) #concatination"
      ]
    },
    {
      "cell_type": "code",
      "execution_count": null,
      "metadata": {
        "colab": {
          "base_uri": "https://localhost:8080/"
        },
        "id": "PD6deByJoyTC",
        "outputId": "84696bf9-766c-43f6-b332-46ffefd35db7"
      },
      "outputs": [
        {
          "name": "stdout",
          "output_type": "stream",
          "text": [
            "['Hi!', 'Hi!', 'Hi!', 'Hi!']\n",
            "True\n"
          ]
        }
      ],
      "source": [
        "print(['Hi!'] * 4)#repetation\n",
        "print(3 in [1, 2, 3])#membership"
      ]
    },
    {
      "cell_type": "code",
      "execution_count": null,
      "metadata": {
        "colab": {
          "base_uri": "https://localhost:8080/"
        },
        "id": "i2LvSjCYpZqL",
        "outputId": "8dff8c5a-a1d2-4604-985c-7bb1b7df00d5"
      },
      "outputs": [
        {
          "name": "stdout",
          "output_type": "stream",
          "text": [
            "Original list:  ['a', 'b', 'c', 'd']\n",
            "List after appending:  ['a', 'b', 'c', 'd', 'e']\n"
          ]
        }
      ],
      "source": [
        "list1 = [\"a\", \"b\", \"c\", \"d\"]\n",
        "print (\"Original list: \", list1)\n",
        "list1.append('e') #append using insert elemet at the end.\n",
        "print (\"List after appending: \", list1)"
      ]
    },
    {
      "cell_type": "code",
      "execution_count": null,
      "metadata": {
        "colab": {
          "base_uri": "https://localhost:8080/"
        },
        "id": "9an2UF5EpiSM",
        "outputId": "e0be9a1b-1383-4a0d-d354-36ea1ef09571"
      },
      "outputs": [
        {
          "name": "stdout",
          "output_type": "stream",
          "text": [
            "List after appending:  ['Rohan', 'Physics', 'Chemistry', 21, 69.75]\n",
            "List after appending:  ['Rohan', 'Physics', 'Chemistry', 21, 'Pass', 69.75]\n",
            "Extended list: [1, 2, 3, 4, 5, 6]\n"
          ]
        }
      ],
      "source": [
        "list1 = [\"Rohan\", \"Physics\", 21, 69.75]\n",
        "list1.insert(2, 'Chemistry') #insert(index,new_item)\n",
        "print (\"List after appending: \", list1)\n",
        "list1.insert(-1, 'Pass')\n",
        "print (\"List after appending: \", list1)\n",
        "# Original list\n",
        "list1 = [1, 2, 3]\n",
        "# Another list to extend with\n",
        "another_list = [4, 5, 6]\n",
        "\n",
        "list1.extend(another_list)\n",
        "print(\"Extended list:\", list1)"
      ]
    },
    {
      "cell_type": "code",
      "execution_count": null,
      "metadata": {
        "colab": {
          "base_uri": "https://localhost:8080/"
        },
        "id": "31EJXtdmta0k",
        "outputId": "4bf2f197-86dc-4a2b-ee2f-7460c83bee9f"
      },
      "outputs": [
        {
          "name": "stdout",
          "output_type": "stream",
          "text": [
            "0 25\n",
            "1 12\n",
            "2 10\n",
            "3 -21\n",
            "4 10\n",
            "5 100\n",
            "\n",
            " lst[0]:  25\n",
            "\n",
            " lst[1]:  12\n",
            "\n",
            " lst[2]:  10\n",
            "\n",
            " lst[3]:  -21\n",
            "\n",
            " lst[4]:  10\n",
            "\n",
            " lst[5]:  100\n",
            "25\n",
            "12\n",
            "10\n",
            "-21\n",
            "10\n",
            "100\n"
          ]
        }
      ],
      "source": [
        "lst = [25, 12, 10, -21, 10, 100]#loop in list\n",
        "for index,num in enumerate(lst):\n",
        "   print (index,num)\n",
        "lst = [25, 12, 10, -21, 10, 100]\n",
        "indices = range(len(lst))\n",
        "for i in indices:\n",
        "   print (\"\\n lst[{}]: \".format(i), lst[i])\n",
        "for i in lst:\n",
        "  print(i)"
      ]
    },
    {
      "cell_type": "markdown",
      "metadata": {
        "id": "7d-vV5BQukhq"
      },
      "source": [
        "###list comprehension.\n",
        "A list comprehension is a concise way to create lists. It is similar to set builder notation in mathematics. It is used to define a list based on an existing iterable object, such as a list, tuple, or string, and apply an expression to each element in the iterable.\n",
        "\n",
        "Syntax of Python List Comprehension\n",
        "The basic syntax of list comprehension is −\n",
        "\n",
        "new_list = **[expression for item in iterable if condition]**\n",
        "Where,\n",
        "\n",
        "1)**expression** is the operation or transformation to apply to each item in the iterable. **what will be do or what operation perform**\n",
        "\n",
        "2)**item** is the variable representing each element in the iterable.\n",
        "\n",
        "3)**iterable** is the sequence of elements to iterate over.\n",
        "\n",
        "4)**condition** (optional) is an expression that filters elements based on a specified condition."
      ]
    },
    {
      "cell_type": "code",
      "execution_count": null,
      "metadata": {
        "colab": {
          "base_uri": "https://localhost:8080/"
        },
        "id": "TfjCUmrMMYgS",
        "outputId": "44196638-ec48-42d4-dd74-f8a58921dff4"
      },
      "outputs": [
        {
          "name": "stdout",
          "output_type": "stream",
          "text": [
            "[0, 1, 4, 9, 16, 25, 36, 49, 64, 81]\n"
          ]
        }
      ],
      "source": [
        "list1=[]\n",
        "for x in range(10):\n",
        "  list1.append(x**2)\n",
        "print(list1)"
      ]
    },
    {
      "cell_type": "code",
      "execution_count": null,
      "metadata": {
        "colab": {
          "base_uri": "https://localhost:8080/"
        },
        "id": "gKGWVZUmMYP8",
        "outputId": "614360bb-a0d9-40a7-c204-7de6c40f0d1d"
      },
      "outputs": [
        {
          "data": {
            "text/plain": [
              "[0, 1, 4, 9, 16, 25, 36, 49, 64, 81]"
            ]
          },
          "execution_count": 21,
          "metadata": {},
          "output_type": "execute_result"
        }
      ],
      "source": [
        "[ x**2 for x in range(10)]"
      ]
    },
    {
      "cell_type": "code",
      "execution_count": null,
      "metadata": {
        "colab": {
          "base_uri": "https://localhost:8080/"
        },
        "id": "VVcXdJrUuilr",
        "outputId": "5fc9d9d8-fc14-476e-a768-610cfc543072"
      },
      "outputs": [
        {
          "name": "stdout",
          "output_type": "stream",
          "text": [
            "['H', 'E', 'L', 'L', 'O', 'W', 'O', 'R', 'L', 'D']\n"
          ]
        }
      ],
      "source": [
        "string = \"hello world\"\n",
        "uppercase_letters = [char.upper() for char in string if char.isalpha()]\n",
        "print(uppercase_letters)"
      ]
    },
    {
      "cell_type": "code",
      "execution_count": null,
      "metadata": {
        "colab": {
          "base_uri": "https://localhost:8080/"
        },
        "id": "PxrlWtWsOifm",
        "outputId": "c40a3c66-d97b-42e2-ab5f-87160d3a36bf"
      },
      "outputs": [
        {
          "name": "stdout",
          "output_type": "stream",
          "text": [
            "[0, 4, 16, 36, 64, 100, 144, 196, 256, 324]\n"
          ]
        }
      ],
      "source": [
        "squre=[num**2 for num in range(20) if num%2==0]#print list of squre of 2 divisible\n",
        "print(squre)"
      ]
    },
    {
      "cell_type": "code",
      "execution_count": null,
      "metadata": {
        "colab": {
          "base_uri": "https://localhost:8080/"
        },
        "id": "fpOPsVmtO9zM",
        "outputId": "5a088df5-4379-4e50-a335-17609862278c"
      },
      "outputs": [
        {
          "name": "stdout",
          "output_type": "stream",
          "text": [
            "[2, 6, 10, 14, 18, 22, 26, 30, 34, 38]\n"
          ]
        }
      ],
      "source": [
        "maa=[salary*2 for salary in range(20) if salary%2!=0]\n",
        "print(maa)"
      ]
    },
    {
      "cell_type": "code",
      "execution_count": null,
      "metadata": {
        "colab": {
          "base_uri": "https://localhost:8080/"
        },
        "id": "8uoFMuHHPopL",
        "outputId": "f7217d9e-411f-476b-b31d-bea765326a4e"
      },
      "outputs": [
        {
          "name": "stdout",
          "output_type": "stream",
          "text": [
            "HARE KRISHNA\n",
            "['H', 'A', 'R', 'E', ' ', 'K', 'R', 'I', 'S', 'H', 'N', 'A']\n"
          ]
        }
      ],
      "source": [
        "strg=\"Hare KriShna\"\n",
        "print(strg.upper())\n",
        "newstring=[string.upper() for string in strg if string.lower()]\n",
        "\n",
        "print(str(newstring))"
      ]
    },
    {
      "cell_type": "code",
      "execution_count": null,
      "metadata": {
        "colab": {
          "base_uri": "https://localhost:8080/"
        },
        "id": "wMwA3G_wjFRE",
        "outputId": "33cb8bff-0cce-41f9-8fda-cde6beb0d1e0"
      },
      "outputs": [
        {
          "name": "stdout",
          "output_type": "stream",
          "text": [
            "[[2, 2], [4, 4], [6, 6], [7, 7]]\n"
          ]
        }
      ],
      "source": [
        "list1=[1,2,3,4,5,6,7,8]\n",
        "list2=[2,4,6,7]\n",
        "pair=[[i,j] for i in list1 for j in list2 if i==j] ##nested list comprehension\n",
        "print(pair)"
      ]
    },
    {
      "cell_type": "code",
      "execution_count": null,
      "metadata": {
        "colab": {
          "background_save": true,
          "base_uri": "https://localhost:8080/"
        },
        "id": "cMNmwiERLozB",
        "outputId": "e1414c22-e3de-4eb1-99c8-ee37245b44d0"
      },
      "outputs": [
        {
          "name": "stdout",
          "output_type": "stream",
          "text": [
            "[[12, 12], [12, 6], [12, 4], [12, 20], [6, 12], [6, 6], [6, 4], [6, 20], [4, 12], [4, 6], [4, 4], [4, 20], [20, 12], [20, 6], [20, 4], [20, 20]]\n"
          ]
        }
      ],
      "source": [
        "list4=[12,6,17,4,15,19,13,20]\n",
        "new_pair=[[i,j] for i in list4 for j in list4 if i==0]\n",
        "print(new_pair)"
      ]
    },
    {
      "cell_type": "markdown",
      "source": [
        "# python tupple"
      ],
      "metadata": {
        "id": "fDpVgfCxGAYo"
      }
    },
    {
      "cell_type": "markdown",
      "source": [],
      "metadata": {
        "id": "kAF50iHCHR7s"
      }
    },
    {
      "cell_type": "markdown",
      "source": [
        "###A tuple is a collection which is ordered and unchangeable.Tuples are written with round brackets. it is **immutable** in nature.\n",
        "###Tuple items are ordered, unchangeable, and allow duplicate values."
      ],
      "metadata": {
        "id": "bM0qohy7HgLc"
      }
    },
    {
      "cell_type": "code",
      "source": [
        "#find the type of the datatype\n",
        "new_tupple = (\"apple\", \"banana\", \"cherry\")\n",
        "print(type(new_tupple))"
      ],
      "metadata": {
        "colab": {
          "base_uri": "https://localhost:8080/"
        },
        "id": "ZG3unkHZIEey",
        "outputId": "556e36ff-4bd4-4b7c-b7e1-c93b2ec17c09"
      },
      "execution_count": null,
      "outputs": [
        {
          "output_type": "stream",
          "name": "stdout",
          "text": [
            "<class 'tuple'>\n"
          ]
        }
      ]
    },
    {
      "cell_type": "code",
      "source": [
        "#allow duplicate element\n",
        "new_tupple = (\"apple\", \"banana\", \"cherry\",\"apple\")\n",
        "print(new_tupple)"
      ],
      "metadata": {
        "colab": {
          "base_uri": "https://localhost:8080/"
        },
        "id": "yAkXOlEsIVDw",
        "outputId": "42061a28-53f4-4392-db5a-abdf733f0bc9"
      },
      "execution_count": null,
      "outputs": [
        {
          "output_type": "stream",
          "name": "stdout",
          "text": [
            "('apple', 'banana', 'cherry', 'apple')\n"
          ]
        }
      ]
    },
    {
      "cell_type": "code",
      "source": [
        "#length of the tupple\n",
        "new_tupple = (\"apple\", \"banana\", \"cherry\")\n",
        "print(len(new_tupple))"
      ],
      "metadata": {
        "colab": {
          "base_uri": "https://localhost:8080/"
        },
        "id": "GqNul34ZIdeT",
        "outputId": "a0c6e7e5-e23b-4f3d-bdf4-1e9f1c9c0c2b"
      },
      "execution_count": null,
      "outputs": [
        {
          "output_type": "stream",
          "name": "stdout",
          "text": [
            "3\n"
          ]
        }
      ]
    },
    {
      "cell_type": "code",
      "source": [
        "# some remamber things\n",
        "new_tupple=(\"apple\") #that is not a tupple\n",
        "print(new_tupple)\n",
        "print(type(new_tupple))\n",
        "new_tupple=(\"apple\",) #that is a tupple\n",
        "print(new_tupple)\n",
        "print(type(new_tupple))\n"
      ],
      "metadata": {
        "colab": {
          "base_uri": "https://localhost:8080/"
        },
        "id": "aJhS_8VCIs_E",
        "outputId": "79dc6791-a7c0-4d60-9b2d-e168a8b42a45"
      },
      "execution_count": null,
      "outputs": [
        {
          "output_type": "stream",
          "name": "stdout",
          "text": [
            "apple\n",
            "<class 'str'>\n",
            "('apple',)\n",
            "<class 'tuple'>\n"
          ]
        }
      ]
    },
    {
      "cell_type": "code",
      "source": [
        "#what is the meanning of unchangeable\n",
        "new_tupple = (\"apple\", \"banana\", \"cherry\")\n",
        "new_tupple[1] = \"blackcurrant\" # This will raise an error\n",
        "print(new_tupple)"
      ],
      "metadata": {
        "colab": {
          "base_uri": "https://localhost:8080/",
          "height": 193
        },
        "id": "JtWn2WYVJPOd",
        "outputId": "fd6b8fb4-e1d0-4760-e50f-db1a014ad27b"
      },
      "execution_count": null,
      "outputs": [
        {
          "output_type": "error",
          "ename": "TypeError",
          "evalue": "'tuple' object does not support item assignment",
          "traceback": [
            "\u001b[0;31m---------------------------------------------------------------------------\u001b[0m",
            "\u001b[0;31mTypeError\u001b[0m                                 Traceback (most recent call last)",
            "\u001b[0;32m<ipython-input-8-4ece4135df0e>\u001b[0m in \u001b[0;36m<cell line: 3>\u001b[0;34m()\u001b[0m\n\u001b[1;32m      1\u001b[0m \u001b[0;31m#what is the meanning of unchangeable\u001b[0m\u001b[0;34m\u001b[0m\u001b[0;34m\u001b[0m\u001b[0m\n\u001b[1;32m      2\u001b[0m \u001b[0mnew_tupple\u001b[0m \u001b[0;34m=\u001b[0m \u001b[0;34m(\u001b[0m\u001b[0;34m\"apple\"\u001b[0m\u001b[0;34m,\u001b[0m \u001b[0;34m\"banana\"\u001b[0m\u001b[0;34m,\u001b[0m \u001b[0;34m\"cherry\"\u001b[0m\u001b[0;34m)\u001b[0m\u001b[0;34m\u001b[0m\u001b[0;34m\u001b[0m\u001b[0m\n\u001b[0;32m----> 3\u001b[0;31m \u001b[0mnew_tupple\u001b[0m\u001b[0;34m[\u001b[0m\u001b[0;36m1\u001b[0m\u001b[0;34m]\u001b[0m \u001b[0;34m=\u001b[0m \u001b[0;34m\"blackcurrant\"\u001b[0m \u001b[0;31m# This will raise an error\u001b[0m\u001b[0;34m\u001b[0m\u001b[0;34m\u001b[0m\u001b[0m\n\u001b[0m\u001b[1;32m      4\u001b[0m \u001b[0mprint\u001b[0m\u001b[0;34m(\u001b[0m\u001b[0mnew_tupple\u001b[0m\u001b[0;34m)\u001b[0m\u001b[0;34m\u001b[0m\u001b[0;34m\u001b[0m\u001b[0m\n",
            "\u001b[0;31mTypeError\u001b[0m: 'tuple' object does not support item assignment"
          ]
        }
      ]
    },
    {
      "cell_type": "code",
      "source": [
        "thistuple = tuple((\"apple\", \"banana\", \"cherry\"))# note the double round-brackets\n",
        "thistuple1=tuple(([1,3,4,5,6],\"kirti\"))# list is also contain inside of tuple\n",
        "print(thistuple1)\n",
        "print(thistuple)"
      ],
      "metadata": {
        "colab": {
          "base_uri": "https://localhost:8080/"
        },
        "id": "iV92LCHEJncZ",
        "outputId": "ee898225-c06c-4990-b8d4-53be61a24b03"
      },
      "execution_count": null,
      "outputs": [
        {
          "output_type": "stream",
          "name": "stdout",
          "text": [
            "([1, 3, 4, 5, 6], 'kirti')\n",
            "('apple', 'banana', 'cherry')\n"
          ]
        }
      ]
    },
    {
      "cell_type": "code",
      "source": [
        "#access element from the tuple\n",
        "thistuple = (\"apple\", \"banana\", \"cherry\")\n",
        "print(thistuple[1])\n",
        "print(thistuple[-1])\n",
        "print(thistuple[2:5])#out of range not error\n",
        "print(thistuple[-4:-1]) #reverse out of range not error\n",
        "print(thistuple[1:])\n",
        "print(thistuple[:2])\n",
        "print(thistuple[:])\n",
        "print(thistuple[::2])"
      ],
      "metadata": {
        "colab": {
          "base_uri": "https://localhost:8080/"
        },
        "id": "5CcxBJYxLQOy",
        "outputId": "1d70cf30-59fd-42f8-af6b-8125b5eec66a"
      },
      "execution_count": null,
      "outputs": [
        {
          "output_type": "stream",
          "name": "stdout",
          "text": [
            "banana\n",
            "cherry\n",
            "('cherry',)\n",
            "('apple', 'banana')\n",
            "('banana', 'cherry')\n",
            "('apple', 'banana')\n",
            "('apple', 'banana', 'cherry')\n",
            "('apple', 'cherry')\n"
          ]
        }
      ]
    },
    {
      "cell_type": "markdown",
      "source": [
        "##unpack tupple\n",
        "######When we create a tuple, we normally assign values to it. This is called \"packing\" a tuple.But, in Python, we are also allowed to extract the values back into variables. This is called \"unpacking\":"
      ],
      "metadata": {
        "id": "NGgurEFXNyDJ"
      }
    },
    {
      "cell_type": "code",
      "source": [
        "fruits = (\"apple\", \"banana\", \"cherry\")\n",
        "\n",
        "(green, yellow, red) = fruits\n",
        "\n",
        "print(green)\n",
        "print(yellow)\n",
        "print(red)"
      ],
      "metadata": {
        "colab": {
          "base_uri": "https://localhost:8080/"
        },
        "id": "ec800ReEOfV5",
        "outputId": "f64445f1-379e-45c1-b602-e44079cc1660"
      },
      "execution_count": null,
      "outputs": [
        {
          "output_type": "stream",
          "name": "stdout",
          "text": [
            "apple\n",
            "banana\n",
            "cherry\n"
          ]
        }
      ]
    },
    {
      "cell_type": "code",
      "source": [
        "fruits = (\"apple\", \"banana\", \"cherry\", \"strawberry\", \"raspberry\")\n",
        "\n",
        "(green, yellow, *red) = fruits #using asterisk\n",
        "\n",
        "print(green)\n",
        "print(yellow)\n",
        "print(red)\n",
        "print(type(red)) #the remaining part of the tuple is store in list type in an element"
      ],
      "metadata": {
        "colab": {
          "base_uri": "https://localhost:8080/"
        },
        "id": "2Fx_SB8_PHia",
        "outputId": "d3b44bb9-93f8-457f-e32b-3775b115e8bc"
      },
      "execution_count": null,
      "outputs": [
        {
          "output_type": "stream",
          "name": "stdout",
          "text": [
            "apple\n",
            "banana\n",
            "['cherry', 'strawberry', 'raspberry']\n",
            "<class 'list'>\n"
          ]
        }
      ]
    },
    {
      "cell_type": "markdown",
      "source": [
        "##loop use in tuple"
      ],
      "metadata": {
        "id": "jv4MJlnxQxkE"
      }
    },
    {
      "cell_type": "code",
      "source": [
        "thistuple = (\"apple\", \"banana\", \"cherry\")\n",
        "for x in thistuple:\n",
        "  print(x)"
      ],
      "metadata": {
        "colab": {
          "base_uri": "https://localhost:8080/"
        },
        "id": "Wu2Mi_9QQ14w",
        "outputId": "b2191b9d-c33e-4aed-8a14-57cfa74fffb7"
      },
      "execution_count": null,
      "outputs": [
        {
          "output_type": "stream",
          "name": "stdout",
          "text": [
            "apple\n",
            "banana\n",
            "cherry\n"
          ]
        }
      ]
    },
    {
      "cell_type": "code",
      "source": [
        "thistuple = (\"apple\", \"banana\", \"cherry\")#print as indexing\n",
        "for i in range(len(thistuple)):\n",
        "  print(thistuple[i])"
      ],
      "metadata": {
        "colab": {
          "base_uri": "https://localhost:8080/"
        },
        "id": "g5aEsPaaQ-J_",
        "outputId": "707f6afc-7042-474a-f225-a18c9048ce6c"
      },
      "execution_count": null,
      "outputs": [
        {
          "output_type": "stream",
          "name": "stdout",
          "text": [
            "apple\n",
            "banana\n",
            "cherry\n"
          ]
        }
      ]
    },
    {
      "cell_type": "code",
      "source": [
        "#using while loop\n",
        "thistuple = (\"apple\", \"banana\", \"cherry\")\n",
        "i = 0\n",
        "while i < len(thistuple):\n",
        "  print(thistuple[i])\n",
        "  i = i + 1"
      ],
      "metadata": {
        "colab": {
          "base_uri": "https://localhost:8080/"
        },
        "id": "RmMDObCDRSog",
        "outputId": "80e7f667-e2ce-4c0c-f556-a218146d252d"
      },
      "execution_count": null,
      "outputs": [
        {
          "output_type": "stream",
          "name": "stdout",
          "text": [
            "apple\n",
            "banana\n",
            "cherry\n"
          ]
        }
      ]
    },
    {
      "cell_type": "markdown",
      "source": [
        "### join tuple or concatinate tuple"
      ],
      "metadata": {
        "id": "1ki2kkcPRgqg"
      }
    },
    {
      "cell_type": "code",
      "source": [
        "#join tuple\n",
        "tuple1 = (\"a\", \"b\" , \"c\")\n",
        "tuple2 = (1, 2, 3)\n",
        "\n",
        "tuple3 = tuple1 + tuple2\n",
        "print(tuple3)\n",
        "#multiple tuple\n",
        "print(tuple1*2)"
      ],
      "metadata": {
        "colab": {
          "base_uri": "https://localhost:8080/"
        },
        "id": "8scwb9MoRm4b",
        "outputId": "181163d1-4973-4f6d-8f2f-bf83fcd28ecb"
      },
      "execution_count": null,
      "outputs": [
        {
          "output_type": "stream",
          "name": "stdout",
          "text": [
            "('a', 'b', 'c', 1, 2, 3)\n",
            "('a', 'b', 'c', 'a', 'b', 'c')\n"
          ]
        }
      ]
    },
    {
      "cell_type": "markdown",
      "source": [
        "### common method use in tuple\n",
        "#### 1) count() 2)index()"
      ],
      "metadata": {
        "id": "VdjvV3XNSEwE"
      }
    },
    {
      "cell_type": "code",
      "source": [
        "#use count() in tuple\n",
        "thistuple = (1, 3, 7, 8, 7, 5, 4, 6, 8, 5)\n",
        "x = thistuple.count(5)\n",
        "print(x)\n",
        "#using index()\n",
        "thistuple = (1, 3, 7, 8, 7, 5, 4, 6, 8, 5)\n",
        "x = thistuple.index(8) #always print the index of spesific elemet that come first in the tuple\n",
        "#here first 8 are come at index 3 so it return 3 not going another 8 that present in  at 8 number index\n",
        "print(x)"
      ],
      "metadata": {
        "colab": {
          "base_uri": "https://localhost:8080/"
        },
        "id": "CTvPMnLjSQX4",
        "outputId": "37d8a9d4-342e-4293-8f1f-7a4d3b353bc6"
      },
      "execution_count": null,
      "outputs": [
        {
          "output_type": "stream",
          "name": "stdout",
          "text": [
            "2\n",
            "3\n"
          ]
        }
      ]
    },
    {
      "cell_type": "markdown",
      "source": [
        "# SET\n",
        "### A set is a collection which is unordered, unchangeable*, and unindexed.\n",
        "### note:-Set items are unchangeable, but you can remove items and add new items.\n",
        "### Sets are written with curly brackets.\n",
        "### Sets cannot have two items with the same value."
      ],
      "metadata": {
        "id": "wj9EV7mXUi9W"
      }
    },
    {
      "cell_type": "code",
      "source": [
        "thisset = {\"apple\", \"banana\", \"cherry\"}\n",
        "print(thisset)"
      ],
      "metadata": {
        "colab": {
          "base_uri": "https://localhost:8080/"
        },
        "id": "SLQQqFbxMy-R",
        "outputId": "84aef176-4f83-44b8-a048-bdb1e6825531"
      },
      "execution_count": null,
      "outputs": [
        {
          "output_type": "stream",
          "name": "stdout",
          "text": [
            "{'banana', 'cherry', 'apple'}\n"
          ]
        }
      ]
    },
    {
      "cell_type": "code",
      "source": [
        "#access set in python\n",
        "thisset = {\"apple\", \"banana\", \"cherry\"}\n",
        "\n",
        "for x in thisset:\n",
        "  print(x)\n"
      ],
      "metadata": {
        "colab": {
          "base_uri": "https://localhost:8080/"
        },
        "id": "HoNw9dvtNZx6",
        "outputId": "28dd894a-15ce-4542-8aa1-33dc419535ae"
      },
      "execution_count": null,
      "outputs": [
        {
          "output_type": "stream",
          "name": "stdout",
          "text": [
            "banana\n",
            "cherry\n",
            "apple\n"
          ]
        }
      ]
    },
    {
      "cell_type": "markdown",
      "source": [
        "# Exersise of Set"
      ],
      "metadata": {
        "id": "1LJ92bbiIV2Z"
      }
    },
    {
      "cell_type": "code",
      "source": [
        "\"\"\"Assignment 1: Creating and Accessing Sets,\n",
        "    \"Create a set with the first 10 positive integers. Print the set.\"\"\"\n",
        "s=set(range(1,11))\n",
        "print(s)\n",
        "for i in range(11):\n",
        "  print(i)\n",
        "\"\"\"Assignment 2: Adding and Removing Elements\\n\",\n",
        "    \"\\n\",\n",
        "    \"Add the number 11 to the set created in Assignment 1. Then remove the number 1 from the set. Print the modified set.\"\"\"\n",
        "s.add(11)\n",
        "s.remove(1)\n",
        "print(s)\n",
        "\"\"\" Assignment 3: Set Operations\\n\",\n",
        "    \"\\n\",\n",
        "    \"Create two sets: one with the first 5 positive integers and another with the first 5 even integers. Perform and print the results of union, intersection, difference, and symmetric difference operations on these sets.\"\n",
        "\"\"\"\n",
        "s1=set(range(1,6))\n",
        "s2=set(range(2,11,2))\n",
        "print(\"Union:{}\".format(s1.union(s2)))\n",
        "print(s1.intersection(s2))\n",
        "print(\"difference:{}\".format(s1.difference(s2)))\n",
        "print(s1.symmetric_difference(s2))\n",
        "\"\"\"Assignment 4: Set Comprehensions\\n\",\n",
        "    \"\\n\",\n",
        "    \"Create a new set containing the squares of the first 10 positive integers using a set comprehension. Print the new set.\"\n",
        "   \"\"\"\n",
        "set_omprehension={x**2 for x in range(1,11)}\n",
        "print(set_omprehension)\n",
        "set_comprehension2={x for x in range(1,11) if x%2==0}\n",
        "print(set_comprehension2)\n",
        "\n",
        "\"\"\"Assignment 5: Filtering Sets\\n\",\n",
        "    \"\\n\",\n",
        "    \"Create a new set containing only the even numbers from the set created in Assignment 1 using a set comprehension. Print the new set.\"\n",
        "\"\"\"\n",
        "set_comprehension3={x for x in s if x%2==0}\n",
        "print(\"even:\",set_comprehension3)\n",
        "\"\"\"Assignment 6: Set Methods\\n\",\n",
        "    \"\\n\",\n",
        "    \"Create a set with duplicate elements and remove the duplicates using set methods. Print the modified set.\"\"\"\n",
        "unique_set={1,2,3,2,4,1,5,3,6}\n",
        "print(unique_set)\n",
        "unique_set.remove(2)\n",
        "print(unique_set)\n",
        "\n",
        "\"\"\"Assignment 7: Subsets and Supersets\\n\",\n",
        "    \"\\n\",\n",
        "    \"Create two sets: one with the first 5 positive integers and another with the first 3 positive integers. Check if the second set is a subset of the first set and if the first set is a superset of the second set. Print the results.\"\n",
        "   \"\"\"\n",
        "set3=set(range(1,6))\n",
        "set4=set(range(1,4))\n",
        "print(set3.issubset(set4))\n",
        "print(set3.issuperset(set4))\n",
        "\"\"\"Assignment 8: Frozenset\\n\",\n",
        "    \"\\n\",\n",
        "    \"Create a frozenset with the first 5 positive integers. Print the frozenset.\"\n",
        "   \"\"\"\n",
        "fs=frozenset(range(1,6))#A frozen set is similar to a set in Python,\n",
        "# but frozen sets are immutable, so elements cannot be added or removed after they've been created.\n",
        "print(fs)\n",
        "print(type(fs))\n",
        "\n",
        "\"\"\" Assignment 9: Set and List Conversion\\n\",\n",
        "    \"\\n\",\n",
        "    \"Create a set with the first 5 positive integers.\n",
        "Convert it to a list, append the number 6, and convert it back to a set. Print the resulting set.\"\"\"\n",
        "\n",
        "set6=set(range(1,6))\n",
        "con_list=list(set6)\n",
        "con_list.append(6)\n",
        "print(con_list)\n",
        "print(set(con_list))\n",
        "\n",
        "\"\"\"Assignment 10: Set and Dictionary\\n\",\n",
        "    \"\\n\",\n",
        "    \"Create a dictionary with set keys and integer values. Print the dictionary.\"\n",
        "\"\"\"\n",
        "dict1={1,2,3,4,5}\n",
        "print(dict1)\n",
        "\"\"\"Assignment 15: Set of Tuples\\n\",\n",
        "    \"\\n\",\n",
        "    \"Create a set containing tuples, where each tuple contains two elements. Print the set.\"\n",
        "\"\"\"\n",
        "s = { (1, 2), (3, 4), (5, 6) }\n",
        "print(s)\n",
        "set_specific={i for i in s if i[0]==3}\n",
        "print(set_specific)\n",
        "\n",
        "\n",
        "\n"
      ],
      "metadata": {
        "id": "CLKTkz30IVM8",
        "colab": {
          "base_uri": "https://localhost:8080/"
        },
        "outputId": "1c03062e-bd6d-4da7-b5b1-e5247a0824ba"
      },
      "execution_count": null,
      "outputs": [
        {
          "output_type": "stream",
          "name": "stdout",
          "text": [
            "{1, 2, 3, 4, 5, 6, 7, 8, 9, 10}\n",
            "0\n",
            "1\n",
            "2\n",
            "3\n",
            "4\n",
            "5\n",
            "6\n",
            "7\n",
            "8\n",
            "9\n",
            "10\n",
            "{2, 3, 4, 5, 6, 7, 8, 9, 10, 11}\n",
            "Union:{1, 2, 3, 4, 5, 6, 8, 10}\n",
            "{2, 4}\n",
            "difference:{1, 3, 5}\n",
            "{1, 3, 5, 6, 8, 10}\n",
            "{64, 1, 4, 36, 100, 9, 16, 49, 81, 25}\n",
            "{2, 4, 6, 8, 10}\n",
            "even: {2, 4, 6, 8, 10}\n",
            "{1, 2, 3, 4, 5, 6}\n",
            "{1, 3, 4, 5, 6}\n",
            "False\n",
            "True\n",
            "frozenset({1, 2, 3, 4, 5})\n",
            "<class 'frozenset'>\n",
            "[1, 2, 3, 4, 5, 6]\n",
            "{1, 2, 3, 4, 5, 6}\n",
            "{1, 2, 3, 4, 5}\n",
            "{(1, 2), (3, 4), (5, 6)}\n",
            "{(3, 4)}\n"
          ]
        }
      ]
    }
  ],
  "metadata": {
    "colab": {
      "provenance": [],
      "authorship_tag": "ABX9TyOCtPXIaP+6a9JghuEr7Nb4",
      "include_colab_link": true
    },
    "kernelspec": {
      "display_name": "Python 3",
      "name": "python3"
    },
    "language_info": {
      "name": "python"
    }
  },
  "nbformat": 4,
  "nbformat_minor": 0
}