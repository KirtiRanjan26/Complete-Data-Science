{
  "nbformat": 4,
  "nbformat_minor": 0,
  "metadata": {
    "colab": {
      "provenance": [],
      "authorship_tag": "ABX9TyOkPmUVCcr2O1tcisjk8xDL",
      "include_colab_link": true
    },
    "kernelspec": {
      "name": "python3",
      "display_name": "Python 3"
    },
    "language_info": {
      "name": "python"
    }
  },
  "cells": [
    {
      "cell_type": "markdown",
      "metadata": {
        "id": "view-in-github",
        "colab_type": "text"
      },
      "source": [
        "<a href=\"https://colab.research.google.com/github/KirtiRanjan26/Complete-Data-Science/blob/main/python_concept_3.ipynb\" target=\"_parent\"><img src=\"https://colab.research.google.com/assets/colab-badge.svg\" alt=\"Open In Colab\"/></a>"
      ]
    },
    {
      "cell_type": "markdown",
      "source": [
        "# function in python"
      ],
      "metadata": {
        "id": "r_zK7GILWJq-"
      }
    },
    {
      "cell_type": "markdown",
      "source": [
        "1) function blocks begin with the keyword def followed by the function name and parentheses ().\n",
        "\n",
        "2) Any input parameters or arguments should be placed within these parentheses. You can also define parameters inside these parentheses.\n",
        "\n",
        "3) The first statement of a function can be an optional statement; the documentation string of the function or docstring.\n",
        "\n",
        "4) The code block within every function starts with a colon (:) and is indented.\n",
        "\n",
        "5) The statement return [expression] exits a function, optionally passing back an expression to the caller. A return statement with no arguments is the same as return None."
      ],
      "metadata": {
        "id": "r8yy9rq3VgSY"
      }
    },
    {
      "cell_type": "code",
      "source": [
        "def testfunction(arg):\n",
        "    print (\"ID inside the function:\", id(arg))\n",
        "var = \"Hello\"\n",
        "print (\"ID before passing:\", id(var))\n",
        "testfunction(var)"
      ],
      "metadata": {
        "colab": {
          "base_uri": "https://localhost:8080/"
        },
        "id": "nOMNnw1oXWSI",
        "outputId": "ea40bd01-ce48-432d-8f97-a3fe53bf063f"
      },
      "execution_count": null,
      "outputs": [
        {
          "output_type": "stream",
          "name": "stdout",
          "text": [
            "ID before passing: 140411430839728\n",
            "ID inside the function: 140411430839728\n"
          ]
        }
      ]
    },
    {
      "cell_type": "code",
      "source": [
        "def testfunction(arg):\n",
        "   print (\"ID inside the function:\", id(arg))\n",
        "   arg = arg + 1\n",
        "   print (\"new object after increment\", arg, id(arg))\n",
        "\n",
        "var=10\n",
        "print (\"ID before passing:\", id(var))\n",
        "testfunction(var)\n",
        "print (\"value after function call\", var) ## original value doesn't change"
      ],
      "metadata": {
        "colab": {
          "base_uri": "https://localhost:8080/"
        },
        "id": "9mmtkP1zYPCS",
        "outputId": "7f6c0edf-3fa1-429c-fa98-09d406968c05"
      },
      "execution_count": null,
      "outputs": [
        {
          "output_type": "stream",
          "name": "stdout",
          "text": [
            "ID before passing: 140411863581200\n",
            "ID inside the function: 140411863581200\n",
            "new object after increment 11 140411863581232\n",
            "value after function call 10\n"
          ]
        }
      ]
    },
    {
      "cell_type": "code",
      "source": [
        "# default argument\n",
        "def fun(name,city=\"kolkata\"):\n",
        "  print(name,city)\n",
        "fun(\"kirti\",\"hydrabad\")"
      ],
      "metadata": {
        "colab": {
          "base_uri": "https://localhost:8080/"
        },
        "id": "HNMyEZQpe5Z_",
        "outputId": "fb718547-8b52-4162-fbd7-1f886ab707c6"
      },
      "execution_count": null,
      "outputs": [
        {
          "output_type": "stream",
          "name": "stdout",
          "text": [
            "kirti hydrabad\n"
          ]
        }
      ]
    },
    {
      "cell_type": "markdown",
      "source": [
        "lambda function:\n",
        "syntex:\n",
        "function name=lambda \"argument\":\"expression\"\n",
        "\n",
        "A lambda function is a small anonymous function.\n",
        "\n",
        "A lambda function can take any number of arguments, but can only have one expression.\n",
        "\n"
      ],
      "metadata": {
        "id": "tO-Zpe65gZW9"
      }
    },
    {
      "cell_type": "code",
      "source": [
        "lam_fun=lambda x:x*x\n",
        "print(lam_fun(5)) ## simply multiplication\n",
        "type(lam_fun)\n",
        "#print even\n",
        "lm2_fun=lambda x:x%2==0\n",
        "print(lm2_fun(5))\n",
        "# addition\n",
        "lam3_fun=lambda x,y,z:x+y+z\n",
        "print(lam3_fun(1,2,3))\n",
        "#check to expression\n",
        "lam4_fun=lambda x,y:x if x>y else y\n",
        "print(lam4_fun(1,2))\n"
      ],
      "metadata": {
        "colab": {
          "base_uri": "https://localhost:8080/"
        },
        "id": "T1rq4t90hWBX",
        "outputId": "7de4fabc-752f-43a4-94c7-8ea9fb04fbf7"
      },
      "execution_count": null,
      "outputs": [
        {
          "output_type": "stream",
          "name": "stdout",
          "text": [
            "25\n",
            "False\n",
            "6\n",
            "2\n"
          ]
        }
      ]
    },
    {
      "cell_type": "markdown",
      "source": [
        "map() function use..\n",
        "The map() function executes a specified function for each item in an iterable. The item is sent to the function as a parameter.\n",
        "\n",
        "Syntax\n",
        "map(function, iterables)"
      ],
      "metadata": {
        "id": "m8wNRM_FW164"
      }
    },
    {
      "cell_type": "code",
      "source": [
        "def myfunc(n):\n",
        "  return len(n)\n",
        "\n",
        "x = map(myfunc, ('apple', 'banana', 'cherry'))\n",
        "print(myfunc('apple'))\n",
        "print(list(x))\n"
      ],
      "metadata": {
        "colab": {
          "base_uri": "https://localhost:8080/"
        },
        "id": "PLJQvFwOYR53",
        "outputId": "5e2079ac-9c0b-4183-b242-da10e27df6a9"
      },
      "execution_count": null,
      "outputs": [
        {
          "output_type": "stream",
          "name": "stdout",
          "text": [
            "5\n",
            "[5, 6, 6]\n"
          ]
        }
      ]
    },
    {
      "cell_type": "code",
      "source": [
        "def myfunc(a, b):\n",
        "  return a + b\n",
        "\n",
        "x = map(myfunc, ('apple', 'banana', 'cherry'), ('orange', 'lemon', 'pineapple'))\n",
        "print(list(x))\n",
        "#using lambda()function\n",
        "y=map(lambda m,n:m+n,('apple', 'banana', 'cherry'), ('orange', 'lemon', 'pineapple'))\n",
        "print(list(y))"
      ],
      "metadata": {
        "colab": {
          "base_uri": "https://localhost:8080/"
        },
        "id": "OdCybf3aZNDn",
        "outputId": "a6f595d4-3e72-45f1-ab10-689bf57f0ee6"
      },
      "execution_count": null,
      "outputs": [
        {
          "output_type": "stream",
          "name": "stdout",
          "text": [
            "['appleorange', 'bananalemon', 'cherrypineapple']\n",
            "['appleorange', 'bananalemon', 'cherrypineapple']\n"
          ]
        }
      ]
    },
    {
      "cell_type": "markdown",
      "source": [
        "The filter() function returns an iterator where the items are filtered through a function to test if the item is accepted or not."
      ],
      "metadata": {
        "id": "SAbmrA1B5CTS"
      }
    },
    {
      "cell_type": "code",
      "source": [
        "ages = [5, 12, 17, 18, 24, 32]\n",
        "\n",
        "def myFunc(x):\n",
        "  if x < 18:\n",
        "    return False\n",
        "  else:\n",
        "    return True\n",
        "\n",
        "adults = filter(myFunc, ages)\n",
        "\n",
        "for x in adults:\n",
        "  print(x)\n",
        "#using lambda function\n",
        "adults = filter(lambda x:x>=18,ages)\n",
        "print(list(adults))\n"
      ],
      "metadata": {
        "colab": {
          "base_uri": "https://localhost:8080/"
        },
        "id": "XSE7-5ml5dGB",
        "outputId": "6f8523c5-9b87-4598-b01e-579f16b724d3"
      },
      "execution_count": null,
      "outputs": [
        {
          "output_type": "stream",
          "name": "stdout",
          "text": [
            "18\n",
            "24\n",
            "32\n",
            "[18, 24, 32]\n"
          ]
        }
      ]
    },
    {
      "cell_type": "markdown",
      "source": [
        "# Assignment of function"
      ],
      "metadata": {
        "id": "e7flfvbZ6ODY"
      }
    },
    {
      "cell_type": "code",
      "source": [
        "#Assingnment 1: Fibonacci Sequence with Memoization\n",
        "# only using loop\n",
        "n=int(input(\"enter a how many number of fibbonacci series print:\"))\n",
        "num1=0\n",
        "num2=1\n",
        "next_num=num2\n",
        "count=1\n",
        "while count<=n:\n",
        "  print(next_num,end=\" \")\n",
        "  count+=1\n",
        "  num1,num2=num2,next_num\n",
        "  next_num=num1+num2\n",
        "\n",
        "\n",
        "\n",
        "\n"
      ],
      "metadata": {
        "colab": {
          "base_uri": "https://localhost:8080/"
        },
        "id": "cNNrcWIJ6UOI",
        "outputId": "2438d591-39a3-4ce6-977e-c753efebdf9b"
      },
      "execution_count": null,
      "outputs": [
        {
          "output_type": "stream",
          "name": "stdout",
          "text": [
            "enter a how many number of fibbonacci series print:10\n",
            "1 2 3 5 8 13 21 34 55 89 55\n"
          ]
        }
      ]
    },
    {
      "cell_type": "code",
      "source": [
        "#using recursive function\n",
        "\n",
        "def fibo(n):\n",
        "  if n==0:\n",
        "    return 0\n",
        "  elif n==1 or n==2:\n",
        "    return 1\n",
        "  else:\n",
        "    return fibo(n-1)+fibo(n-2)\n",
        "print(fibo(10))"
      ],
      "metadata": {
        "colab": {
          "base_uri": "https://localhost:8080/"
        },
        "id": "zza88P0HHJuZ",
        "outputId": "186b91d1-cc87-4dfd-ec5b-edc9e0bfc308"
      },
      "execution_count": null,
      "outputs": [
        {
          "output_type": "stream",
          "name": "stdout",
          "text": [
            "55\n"
          ]
        }
      ]
    },
    {
      "cell_type": "code",
      "source": [
        "#using backtracking /Memoization\n",
        "def fibonacci(n, memo={}):\n",
        "    if n <= 0:\n",
        "        return 0\n",
        "    elif n == 1:\n",
        "        return 1\n",
        "    elif n in memo:\n",
        "        return memo[n]\n",
        "    else:\n",
        "        memo[n] = fibonacci(n-1) + fibonacci(n-2)\n",
        "        return memo[n]\n",
        "\n",
        "# Driver Program\n",
        "print(fibonacci(10))"
      ],
      "metadata": {
        "colab": {
          "base_uri": "https://localhost:8080/"
        },
        "id": "Vyvi4N7YK_9h",
        "outputId": "7c96b709-43b4-4a53-f95c-61e5e4f3bc97"
      },
      "execution_count": null,
      "outputs": [
        {
          "output_type": "stream",
          "name": "stdout",
          "text": [
            "55\n"
          ]
        }
      ]
    },
    {
      "cell_type": "code",
      "source": [
        "# Assignment 2: Function with Nested Default Arguments\n",
        "#  Define a function that takes two arguments, a and b,\n",
        "#  where b is a dictionary with a default value of an empty dictionary. The function should add a\n",
        "#  new key-value pair to the dictionary and return it. Test the function with different inputs.\"\n",
        "\n",
        "def fun(a,b={}):\n",
        "\n",
        "  b[a]=a**2\n",
        "  return b\n",
        "print(fun(1))\n",
        "print(fun(2))\n",
        "print(fun(3))\n",
        "print(fun(4))\n"
      ],
      "metadata": {
        "colab": {
          "base_uri": "https://localhost:8080/"
        },
        "id": "ImQcoEJFPDGt",
        "outputId": "f45c1a05-f026-45bf-8afc-13ee8554d5d3"
      },
      "execution_count": null,
      "outputs": [
        {
          "output_type": "stream",
          "name": "stdout",
          "text": [
            "{1: 1}\n",
            "{1: 1, 2: 4}\n",
            "{1: 1, 2: 4, 3: 9}\n",
            "{1: 1, 2: 4, 3: 9, 4: 16}\n"
          ]
        }
      ]
    },
    {
      "cell_type": "code",
      "source": [
        "# Assignment 3: Function with Variable Keyword Arguments,\n",
        "#\"Define a function that takes a variable number of keyword arguments and\n",
        "#returns a dictionary containing only those key-value pairs where the value is an integer.\n",
        "#Test the function with different inputs.\"\n",
        "\n",
        "def fun(**kwargs):\n",
        "  result={}\n",
        "  for key,value in kwargs.items():\n",
        "    if isinstance(value,int):\n",
        "      result[key]=value\n",
        "  return result\n",
        "print(fun(a=1,b=\"krrish\",c=\"ranjan\",d=3))"
      ],
      "metadata": {
        "colab": {
          "base_uri": "https://localhost:8080/"
        },
        "id": "9g9i085lYYjB",
        "outputId": "1a8355b5-a4ee-4878-a873-cb0d67ff89b1"
      },
      "execution_count": null,
      "outputs": [
        {
          "output_type": "stream",
          "name": "stdout",
          "text": [
            "{'a': 1, 'd': 3}\n"
          ]
        }
      ]
    },
    {
      "cell_type": "code",
      "source": [
        "# Assignment 4: Function with Callback\\n\",\n",
        "#     \"\\n\",\n",
        "#     \"Define a function that takes another function as a callback and a list of integers.\n",
        "#The function should apply the callback to each integer in the list and return a new list with the results.\n",
        "#Test with different callback functions.\"\n",
        "\n",
        "def fun(lst,callback):\n",
        "    #result.append(callback(i))\n",
        "    return[callback(i) for i in lst]\n",
        "print(fun([1,2,3,4,5],lambda x:x**2))"
      ],
      "metadata": {
        "colab": {
          "base_uri": "https://localhost:8080/"
        },
        "id": "lpdY0jo8dOOg",
        "outputId": "0f9ddcf7-c111-4c2d-821c-36c8ce24b776"
      },
      "execution_count": null,
      "outputs": [
        {
          "output_type": "stream",
          "name": "stdout",
          "text": [
            "[1, 4, 9, 16, 25]\n"
          ]
        }
      ]
    },
    {
      "cell_type": "code",
      "source": [
        "#Assignment 5: Function that Returns a Function,\n",
        "\n",
        "\"\"\"Define a function that returns another function.\n",
        " The returned function should take an integer and return its square. Test the returned function with different inputs.\"\"\"\n",
        "def fun():\n",
        "  def fun2(n):\n",
        "    return n**2\n",
        "  return fun2()\n",
        "print(fun2(4))\n",
        "\n",
        "\n"
      ],
      "metadata": {
        "colab": {
          "base_uri": "https://localhost:8080/"
        },
        "id": "qWrVIuURqoLT",
        "outputId": "ee9d5cc9-d7e9-4e5a-8616-77f5ce26e4b7"
      },
      "execution_count": null,
      "outputs": [
        {
          "output_type": "stream",
          "name": "stdout",
          "text": [
            "16\n"
          ]
        }
      ]
    },
    {
      "cell_type": "code",
      "source": [
        "\"\"\"Assignment 7: Higher-Order Function for Filtering and Mapping\\n\",\n",
        "    \"\\n\",\n",
        "    \"Define a higher-order function that takes two functions,\n",
        "     a filter function and a map function, along with a list of integers.\n",
        "     The higher-order function should first filter the integers using the filter function and then apply the map function to the filtered integers. Test with different filter and map functions.\"\n",
        "\"\"\"\n",
        "def fun(lst,filter_fun,map_fun):\n",
        "  return list(map(map_fun,filter(filter_fun,lst)))\n",
        "\n"
      ],
      "metadata": {
        "id": "UNoXspNivQw2"
      },
      "execution_count": null,
      "outputs": []
    }
  ]
}